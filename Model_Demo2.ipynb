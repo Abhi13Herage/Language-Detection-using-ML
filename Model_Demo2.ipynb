{
 "cells": [
  {
   "cell_type": "markdown",
   "id": "09f29690-7436-4c3c-b4c1-7d6bd63397dd",
   "metadata": {},
   "source": [
    "Developement of Language Detection System using Machine Learning\n"
   ]
  },
  {
   "cell_type": "code",
   "execution_count": 59,
   "id": "d89abc65-8aaa-482f-a636-57780c63a72a",
   "metadata": {},
   "outputs": [],
   "source": [
    "#IMPORT LIBRARIES\n",
    "\n",
    "\n",
    "import string\n",
    "import numpy as np\n",
    "import pandas as pd\n",
    "import seaborn as sns\n",
    "from sklearn import metrics\n",
    "from sklearn.svm import SVC\n",
    "import matplotlib.pyplot as plt\n",
    "from sklearn.pipeline import Pipeline\n",
    "from sklearn.preprocessing import LabelEncoder\n",
    "from sklearn.naive_bayes import MultinomialNB\n",
    "from sklearn.model_selection import train_test_split\n",
    "from sklearn.feature_extraction.text import TfidfVectorizer\n",
    "from sklearn.metrics import accuracy_score, confusion_matrix\n",
    "from sklearn.metrics import confusion_matrix, ConfusionMatrixDisplay\n",
    "from sklearn.ensemble import RandomForestClassifier, VotingClassifier\n",
    "from sklearn.metrics import accuracy_score, precision_recall_fscore_support\n",
    "\n",
    "\n"
   ]
  },
  {
   "cell_type": "code",
   "execution_count": 60,
   "id": "25197dbe-8a65-44c0-b7a3-2190c1cc25a0",
   "metadata": {},
   "outputs": [],
   "source": [
    "# Loading multiple datasets for usage more languages\n",
    "\n",
    "\n",
    "\n",
    "df1 =pd.read_csv(\"C:\\\\Users\\\\abhis\\\\Desktop\\\\PROJ_DOCS\\\\dataset.csv\")\n",
    "df2 = pd.read_csv(\"C:\\\\Users\\\\abhis\\\\Desktop\\\\PROJ_DOCS\\\\Language Detection.csv\")\n",
    "\n",
    "df3=pd.read_csv(\"C:\\\\Users\\\\abhis\\\\Desktop\\\\PROJ_DOCS\\\\telugu_sentences_200.csv\")"
   ]
  },
  {
   "cell_type": "code",
   "execution_count": 61,
   "id": "3cf3cc12-975e-4f7c-9339-257f262a18a7",
   "metadata": {},
   "outputs": [],
   "source": [
    "# Concatenate  datasets\n",
    "# Save the combined dataset\n",
    "\n",
    "df= pd.concat([df1, df2, df3], ignore_index=True)\n",
    "df.to_csv('df', index=False)\n"
   ]
  },
  {
   "cell_type": "code",
   "execution_count": 62,
   "id": "2fb5c697-d84c-4201-8b52-c087daccc310",
   "metadata": {},
   "outputs": [
    {
     "data": {
      "text/html": [
       "<div>\n",
       "<style scoped>\n",
       "    .dataframe tbody tr th:only-of-type {\n",
       "        vertical-align: middle;\n",
       "    }\n",
       "\n",
       "    .dataframe tbody tr th {\n",
       "        vertical-align: top;\n",
       "    }\n",
       "\n",
       "    .dataframe thead th {\n",
       "        text-align: right;\n",
       "    }\n",
       "</style>\n",
       "<table border=\"1\" class=\"dataframe\">\n",
       "  <thead>\n",
       "    <tr style=\"text-align: right;\">\n",
       "      <th></th>\n",
       "      <th>Text</th>\n",
       "      <th>Language</th>\n",
       "    </tr>\n",
       "  </thead>\n",
       "  <tbody>\n",
       "    <tr>\n",
       "      <th>0</th>\n",
       "      <td>klement gottwaldi surnukeha palsameeriti ning ...</td>\n",
       "      <td>Estonian</td>\n",
       "    </tr>\n",
       "    <tr>\n",
       "      <th>1</th>\n",
       "      <td>sebes joseph pereira thomas  på eng the jesuit...</td>\n",
       "      <td>Swedish</td>\n",
       "    </tr>\n",
       "    <tr>\n",
       "      <th>2</th>\n",
       "      <td>ถนนเจริญกรุง อักษรโรมัน thanon charoen krung เ...</td>\n",
       "      <td>Thai</td>\n",
       "    </tr>\n",
       "    <tr>\n",
       "      <th>3</th>\n",
       "      <td>விசாகப்பட்டினம் தமிழ்ச்சங்கத்தை இந்துப் பத்திர...</td>\n",
       "      <td>Tamil</td>\n",
       "    </tr>\n",
       "    <tr>\n",
       "      <th>4</th>\n",
       "      <td>de spons behoort tot het geslacht haliclona en...</td>\n",
       "      <td>Dutch</td>\n",
       "    </tr>\n",
       "    <tr>\n",
       "      <th>...</th>\n",
       "      <td>...</td>\n",
       "      <td>...</td>\n",
       "    </tr>\n",
       "    <tr>\n",
       "      <th>32528</th>\n",
       "      <td>ఈ సముద్రయానం చాలా ఆకర్షణీయంగా ఉంది.</td>\n",
       "      <td>Telugu</td>\n",
       "    </tr>\n",
       "    <tr>\n",
       "      <th>32529</th>\n",
       "      <td>ఆ ఫలితం చాలా ఆశ్చర్యకరంగా ఉంది.</td>\n",
       "      <td>Telugu</td>\n",
       "    </tr>\n",
       "    <tr>\n",
       "      <th>32530</th>\n",
       "      <td>ఈ విరామం నాకు చాలా అవసరం.</td>\n",
       "      <td>Telugu</td>\n",
       "    </tr>\n",
       "    <tr>\n",
       "      <th>32531</th>\n",
       "      <td>ఆ కుటుంబం చాలా స్నేహపూర్వకంగా ఉంది.</td>\n",
       "      <td>Telugu</td>\n",
       "    </tr>\n",
       "    <tr>\n",
       "      <th>32532</th>\n",
       "      <td>ఈ సంబరాలు నాకు చాలా ఆనందం ఇస్తాయి.</td>\n",
       "      <td>Telugu</td>\n",
       "    </tr>\n",
       "  </tbody>\n",
       "</table>\n",
       "<p>32533 rows × 2 columns</p>\n",
       "</div>"
      ],
      "text/plain": [
       "                                                    Text  Language\n",
       "0      klement gottwaldi surnukeha palsameeriti ning ...  Estonian\n",
       "1      sebes joseph pereira thomas  på eng the jesuit...   Swedish\n",
       "2      ถนนเจริญกรุง อักษรโรมัน thanon charoen krung เ...      Thai\n",
       "3      விசாகப்பட்டினம் தமிழ்ச்சங்கத்தை இந்துப் பத்திர...     Tamil\n",
       "4      de spons behoort tot het geslacht haliclona en...     Dutch\n",
       "...                                                  ...       ...\n",
       "32528                ఈ సముద్రయానం చాలా ఆకర్షణీయంగా ఉంది.    Telugu\n",
       "32529                    ఆ ఫలితం చాలా ఆశ్చర్యకరంగా ఉంది.    Telugu\n",
       "32530                          ఈ విరామం నాకు చాలా అవసరం.    Telugu\n",
       "32531                ఆ కుటుంబం చాలా స్నేహపూర్వకంగా ఉంది.    Telugu\n",
       "32532                 ఈ సంబరాలు నాకు చాలా ఆనందం ఇస్తాయి.    Telugu\n",
       "\n",
       "[32533 rows x 2 columns]"
      ]
     },
     "execution_count": 62,
     "metadata": {},
     "output_type": "execute_result"
    }
   ],
   "source": [
    "# Display newly created DataFrame\n",
    "\n",
    "df"
   ]
  },
  {
   "cell_type": "markdown",
   "id": "0bfeb205-c9fb-488f-95fa-f1d35911f536",
   "metadata": {},
   "source": [
    "Exploratory Data Analysis (EDA)"
   ]
  },
  {
   "cell_type": "code",
   "execution_count": 63,
   "id": "d2fbbf2b-790a-4783-9fa8-181d851c4194",
   "metadata": {},
   "outputs": [
    {
     "data": {
      "text/plain": [
       "(32533, 2)"
      ]
     },
     "execution_count": 63,
     "metadata": {},
     "output_type": "execute_result"
    }
   ],
   "source": [
    "# Display rows and columns in DATAFRAME\n",
    "df.shape"
   ]
  },
  {
   "cell_type": "code",
   "execution_count": 64,
   "id": "917f0c78-5f1e-49eb-ae50-e3b2e31575c4",
   "metadata": {},
   "outputs": [
    {
     "name": "stdout",
     "output_type": "stream",
     "text": [
      "Language\n",
      "English       2385\n",
      "French        2014\n",
      "Spanish       1819\n",
      "Russian       1692\n",
      "Dutch         1546\n",
      "Arabic        1536\n",
      "Turkish       1474\n",
      "Tamil         1469\n",
      "Hindi         1063\n",
      "Latin         1000\n",
      "Urdu          1000\n",
      "Japanese      1000\n",
      "Estonian      1000\n",
      "Thai          1000\n",
      "Swedish       1000\n",
      "Korean        1000\n",
      "Chinese       1000\n",
      "Indonesian    1000\n",
      "Portugese     1000\n",
      "Romanian      1000\n",
      "Persian       1000\n",
      "Pushto        1000\n",
      "Portugeese     739\n",
      "Italian        698\n",
      "Sweedish       676\n",
      "Malayalam      594\n",
      "German         470\n",
      "Danish         428\n",
      "Kannada        369\n",
      "Greek          365\n",
      "Telugu         196\n",
      "Name: count, dtype: int64\n"
     ]
    }
   ],
   "source": [
    "# Check the distribution of the target variable (language)\n",
    "print(df['Language'].value_counts())"
   ]
  },
  {
   "cell_type": "code",
   "execution_count": 65,
   "id": "14ddf624-b2c9-4a72-b457-9875dbb2bc7e",
   "metadata": {},
   "outputs": [
    {
     "name": "stdout",
     "output_type": "stream",
     "text": [
      "                                                Text  Language\n",
      "0  klement gottwaldi surnukeha palsameeriti ning ...  Estonian\n",
      "1  sebes joseph pereira thomas  på eng the jesuit...   Swedish\n",
      "2  ถนนเจริญกรุง อักษรโรมัน thanon charoen krung เ...      Thai\n",
      "3  விசாகப்பட்டினம் தமிழ்ச்சங்கத்தை இந்துப் பத்திர...     Tamil\n",
      "4  de spons behoort tot het geslacht haliclona en...     Dutch\n"
     ]
    }
   ],
   "source": [
    "# Display the first few rows of the dataset\n",
    "print(df.head())"
   ]
  },
  {
   "cell_type": "code",
   "execution_count": 66,
   "id": "74bb879a-62d2-4288-af31-cd2b4926d12c",
   "metadata": {},
   "outputs": [
    {
     "name": "stdout",
     "output_type": "stream",
     "text": [
      "<class 'pandas.core.frame.DataFrame'>\n",
      "RangeIndex: 32533 entries, 0 to 32532\n",
      "Data columns (total 2 columns):\n",
      " #   Column    Non-Null Count  Dtype \n",
      "---  ------    --------------  ----- \n",
      " 0   Text      32533 non-null  object\n",
      " 1   Language  32533 non-null  object\n",
      "dtypes: object(2)\n",
      "memory usage: 508.5+ KB\n",
      "None\n"
     ]
    }
   ],
   "source": [
    "# Get basic information about the dataset\n",
    "print(df.info())"
   ]
  },
  {
   "cell_type": "code",
   "execution_count": 67,
   "id": "fdd7fdda-19be-4bb1-98e2-a23e5d79e4e3",
   "metadata": {},
   "outputs": [
    {
     "name": "stdout",
     "output_type": "stream",
     "text": [
      "                                                     Text Language\n",
      "count                                               32533    32533\n",
      "unique                                              32215       31\n",
      "top     haec commentatio automatice praeparata res ast...  English\n",
      "freq                                                   48     2385\n"
     ]
    }
   ],
   "source": [
    "# Describe the numerical features\n",
    "print(df.describe())"
   ]
  },
  {
   "cell_type": "code",
   "execution_count": 68,
   "id": "ad0f79ff-5659-40f9-b6e8-802eff7bb3ac",
   "metadata": {},
   "outputs": [
    {
     "name": "stdout",
     "output_type": "stream",
     "text": [
      "Text        0\n",
      "Language    0\n",
      "dtype: int64\n"
     ]
    }
   ],
   "source": [
    "# Check for missing values\n",
    "print(df.isnull().sum())"
   ]
  },
  {
   "cell_type": "code",
   "execution_count": 69,
   "id": "344d8539-25c0-4683-9141-4c6137529b79",
   "metadata": {},
   "outputs": [
    {
     "name": "stdout",
     "output_type": "stream",
     "text": [
      "Text        object\n",
      "Language    object\n",
      "dtype: object\n"
     ]
    }
   ],
   "source": [
    "print(df.dtypes)\n"
   ]
  },
  {
   "cell_type": "markdown",
   "id": "b85ec148-8e83-48ff-8f30-b88a0b0de8b8",
   "metadata": {},
   "source": [
    "PREPROCESSING \n"
   ]
  },
  {
   "cell_type": "code",
   "execution_count": 70,
   "id": "3b5665d8-aa50-48a8-90a2-d8744961ea9d",
   "metadata": {},
   "outputs": [],
   "source": [
    "#Stop word removal\n",
    "#Lowercasing\n",
    "\n",
    "# method to remove puncutations for easy predication\n",
    "\n",
    "def remove_pun(Text):\n",
    "    if isinstance(Text, str):\n",
    "        for pun in string.punctuation:\n",
    "            Text = Text.replace(pun, \"\")\n",
    "        Text = Text.lower()\n",
    "    return Text\n"
   ]
  },
  {
   "cell_type": "code",
   "execution_count": 71,
   "id": "993ca971-2a64-4dce-8b6a-74257632efb3",
   "metadata": {},
   "outputs": [],
   "source": [
    "#Applying the remove_pun function to the 'Text' column of your DataFrame df\n",
    "\n",
    "df['Text'] = df['Text'].apply(remove_pun)"
   ]
  },
  {
   "cell_type": "code",
   "execution_count": 73,
   "id": "10b4fc5e-056e-4fb5-9410-3e054f65e207",
   "metadata": {},
   "outputs": [],
   "source": [
    "label_encoder = LabelEncoder()\n",
    "df['Language'] = label_encoder.fit_transform(df['Language'])\n"
   ]
  },
  {
   "cell_type": "code",
   "execution_count": 74,
   "id": "ba66a930-4f17-4504-9f8f-a01c191fad8a",
   "metadata": {},
   "outputs": [
    {
     "ename": "NameError",
     "evalue": "name 'numerical_df' is not defined",
     "output_type": "error",
     "traceback": [
      "\u001b[1;31m---------------------------------------------------------------------------\u001b[0m",
      "\u001b[1;31mNameError\u001b[0m                                 Traceback (most recent call last)",
      "Cell \u001b[1;32mIn[74], line 1\u001b[0m\n\u001b[1;32m----> 1\u001b[0m \u001b[43mnumerical_df\u001b[49m\u001b[38;5;241m.\u001b[39mhist(bins\u001b[38;5;241m=\u001b[39m\u001b[38;5;241m50\u001b[39m, figsize\u001b[38;5;241m=\u001b[39m(\u001b[38;5;241m20\u001b[39m, \u001b[38;5;241m15\u001b[39m))\n\u001b[0;32m      2\u001b[0m plt\u001b[38;5;241m.\u001b[39mshow()\n",
      "\u001b[1;31mNameError\u001b[0m: name 'numerical_df' is not defined"
     ]
    }
   ],
   "source": [
    "numerical_df.hist(bins=50, figsize=(20, 15))\n",
    "plt.show()\n"
   ]
  },
  {
   "cell_type": "code",
   "execution_count": null,
   "id": "7ef8bf65-2f1b-4006-888e-eff3e3b2ca1c",
   "metadata": {},
   "outputs": [],
   "source": []
  }
 ],
 "metadata": {
  "kernelspec": {
   "display_name": "Python 3 (ipykernel)",
   "language": "python",
   "name": "python3"
  },
  "language_info": {
   "codemirror_mode": {
    "name": "ipython",
    "version": 3
   },
   "file_extension": ".py",
   "mimetype": "text/x-python",
   "name": "python",
   "nbconvert_exporter": "python",
   "pygments_lexer": "ipython3",
   "version": "3.12.4"
  }
 },
 "nbformat": 4,
 "nbformat_minor": 5
}
