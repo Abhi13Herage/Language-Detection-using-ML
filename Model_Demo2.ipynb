{
 "cells": [
  {
   "cell_type": "markdown",
   "id": "09f29690-7436-4c3c-b4c1-7d6bd63397dd",
   "metadata": {},
   "source": [
    "Developement of Language Detection System using Machine Learning\n"
   ]
  },
  {
   "cell_type": "code",
   "execution_count": 28,
   "id": "d89abc65-8aaa-482f-a636-57780c63a72a",
   "metadata": {},
   "outputs": [],
   "source": [
    "#IMPORT LIBRARIES\n",
    "\n",
    "\n",
    "import string\n",
    "import numpy as np\n",
    "import pandas as pd\n",
    "import seaborn as sns\n",
    "from sklearn import metrics\n",
    "from sklearn.svm import SVC\n",
    "import matplotlib.pyplot as plt\n",
    "from sklearn.pipeline import Pipeline\n",
    "from sklearn.naive_bayes import MultinomialNB\n",
    "from sklearn.model_selection import train_test_split\n",
    "from sklearn.feature_extraction.text import TfidfVectorizer\n",
    "from sklearn.metrics import accuracy_score, confusion_matrix\n",
    "from sklearn.metrics import confusion_matrix, ConfusionMatrixDisplay\n",
    "from sklearn.ensemble import RandomForestClassifier, VotingClassifier\n",
    "from sklearn.metrics import accuracy_score, precision_recall_fscore_support\n",
    "\n",
    "\n"
   ]
  },
  {
   "cell_type": "code",
   "execution_count": 33,
   "id": "25197dbe-8a65-44c0-b7a3-2190c1cc25a0",
   "metadata": {},
   "outputs": [],
   "source": [
    "# Loading multiple datasets for usage more languages\n",
    "\n",
    "df1 =pd.read_csv(\"C:\\\\Users\\\\abhis\\\\Desktop\\\\PROJ_DOCS\\\\dataset.csv\")\n",
    "df2=pd.read_csv(\"C:\\\\Users\\\\abhis\\\\Desktop\\\\PROJ_DOCS\\\\language_detection.csv\")\n",
    "df3=pd.read_csv(\"C:\\\\Users\\\\abhis\\\\Desktop\\\\PROJ_DOCS\\\\telugu_sentences_200.csv\")"
   ]
  },
  {
   "cell_type": "code",
   "execution_count": 34,
   "id": "3cf3cc12-975e-4f7c-9339-257f262a18a7",
   "metadata": {},
   "outputs": [],
   "source": [
    "# Concatenate  datasets\n",
    "# Save the combined dataset\n",
    "\n",
    "df= pd.concat([df1, df2, df3], ignore_index=True)\n",
    "df.to_csv('df', index=False)\n"
   ]
  },
  {
   "cell_type": "code",
   "execution_count": 35,
   "id": "2fb5c697-d84c-4201-8b52-c087daccc310",
   "metadata": {},
   "outputs": [
    {
     "data": {
      "text/html": [
       "<div>\n",
       "<style scoped>\n",
       "    .dataframe tbody tr th:only-of-type {\n",
       "        vertical-align: middle;\n",
       "    }\n",
       "\n",
       "    .dataframe tbody tr th {\n",
       "        vertical-align: top;\n",
       "    }\n",
       "\n",
       "    .dataframe thead th {\n",
       "        text-align: right;\n",
       "    }\n",
       "</style>\n",
       "<table border=\"1\" class=\"dataframe\">\n",
       "  <thead>\n",
       "    <tr style=\"text-align: right;\">\n",
       "      <th></th>\n",
       "      <th>Text</th>\n",
       "      <th>Language</th>\n",
       "    </tr>\n",
       "  </thead>\n",
       "  <tbody>\n",
       "    <tr>\n",
       "      <th>0</th>\n",
       "      <td>klement gottwaldi surnukeha palsameeriti ning ...</td>\n",
       "      <td>Estonian</td>\n",
       "    </tr>\n",
       "    <tr>\n",
       "      <th>1</th>\n",
       "      <td>sebes joseph pereira thomas  på eng the jesuit...</td>\n",
       "      <td>Swedish</td>\n",
       "    </tr>\n",
       "    <tr>\n",
       "      <th>2</th>\n",
       "      <td>ถนนเจริญกรุง อักษรโรมัน thanon charoen krung เ...</td>\n",
       "      <td>Thai</td>\n",
       "    </tr>\n",
       "    <tr>\n",
       "      <th>3</th>\n",
       "      <td>விசாகப்பட்டினம் தமிழ்ச்சங்கத்தை இந்துப் பத்திர...</td>\n",
       "      <td>Tamil</td>\n",
       "    </tr>\n",
       "    <tr>\n",
       "      <th>4</th>\n",
       "      <td>de spons behoort tot het geslacht haliclona en...</td>\n",
       "      <td>Dutch</td>\n",
       "    </tr>\n",
       "    <tr>\n",
       "      <th>...</th>\n",
       "      <td>...</td>\n",
       "      <td>...</td>\n",
       "    </tr>\n",
       "    <tr>\n",
       "      <th>44191</th>\n",
       "      <td>ఈ సముద్రయానం చాలా ఆకర్షణీయంగా ఉంది.</td>\n",
       "      <td>Telugu</td>\n",
       "    </tr>\n",
       "    <tr>\n",
       "      <th>44192</th>\n",
       "      <td>ఆ ఫలితం చాలా ఆశ్చర్యకరంగా ఉంది.</td>\n",
       "      <td>Telugu</td>\n",
       "    </tr>\n",
       "    <tr>\n",
       "      <th>44193</th>\n",
       "      <td>ఈ విరామం నాకు చాలా అవసరం.</td>\n",
       "      <td>Telugu</td>\n",
       "    </tr>\n",
       "    <tr>\n",
       "      <th>44194</th>\n",
       "      <td>ఆ కుటుంబం చాలా స్నేహపూర్వకంగా ఉంది.</td>\n",
       "      <td>Telugu</td>\n",
       "    </tr>\n",
       "    <tr>\n",
       "      <th>44195</th>\n",
       "      <td>ఈ సంబరాలు నాకు చాలా ఆనందం ఇస్తాయి.</td>\n",
       "      <td>Telugu</td>\n",
       "    </tr>\n",
       "  </tbody>\n",
       "</table>\n",
       "<p>44196 rows × 2 columns</p>\n",
       "</div>"
      ],
      "text/plain": [
       "                                                    Text  Language\n",
       "0      klement gottwaldi surnukeha palsameeriti ning ...  Estonian\n",
       "1      sebes joseph pereira thomas  på eng the jesuit...   Swedish\n",
       "2      ถนนเจริญกรุง อักษรโรมัน thanon charoen krung เ...      Thai\n",
       "3      விசாகப்பட்டினம் தமிழ்ச்சங்கத்தை இந்துப் பத்திர...     Tamil\n",
       "4      de spons behoort tot het geslacht haliclona en...     Dutch\n",
       "...                                                  ...       ...\n",
       "44191                ఈ సముద్రయానం చాలా ఆకర్షణీయంగా ఉంది.    Telugu\n",
       "44192                    ఆ ఫలితం చాలా ఆశ్చర్యకరంగా ఉంది.    Telugu\n",
       "44193                          ఈ విరామం నాకు చాలా అవసరం.    Telugu\n",
       "44194                ఆ కుటుంబం చాలా స్నేహపూర్వకంగా ఉంది.    Telugu\n",
       "44195                 ఈ సంబరాలు నాకు చాలా ఆనందం ఇస్తాయి.    Telugu\n",
       "\n",
       "[44196 rows x 2 columns]"
      ]
     },
     "execution_count": 35,
     "metadata": {},
     "output_type": "execute_result"
    }
   ],
   "source": [
    "# Display newly created DataFrame\n",
    "\n",
    "df"
   ]
  },
  {
   "cell_type": "markdown",
   "id": "0bfeb205-c9fb-488f-95fa-f1d35911f536",
   "metadata": {},
   "source": [
    "Exploratory Data Analysis (EDA)"
   ]
  },
  {
   "cell_type": "code",
   "execution_count": null,
   "id": "14ddf624-b2c9-4a72-b457-9875dbb2bc7e",
   "metadata": {},
   "outputs": [],
   "source": []
  }
 ],
 "metadata": {
  "kernelspec": {
   "display_name": "Python 3 (ipykernel)",
   "language": "python",
   "name": "python3"
  },
  "language_info": {
   "codemirror_mode": {
    "name": "ipython",
    "version": 3
   },
   "file_extension": ".py",
   "mimetype": "text/x-python",
   "name": "python",
   "nbconvert_exporter": "python",
   "pygments_lexer": "ipython3",
   "version": "3.12.4"
  }
 },
 "nbformat": 4,
 "nbformat_minor": 5
}
